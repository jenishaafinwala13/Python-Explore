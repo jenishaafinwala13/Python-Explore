{
 "cells": [
  {
   "cell_type": "markdown",
   "id": "cc003bfd",
   "metadata": {},
   "source": [
    "# Step 1: Install NLTK "
   ]
  },
  {
   "cell_type": "code",
   "execution_count": 1,
   "id": "cd20722f",
   "metadata": {},
   "outputs": [
    {
     "name": "stdout",
     "output_type": "stream",
     "text": [
      "Requirement already satisfied: nltk in c:\\users\\shrim\\anaconda3\\lib\\site-packages (3.7)\n",
      "Requirement already satisfied: click in c:\\users\\shrim\\anaconda3\\lib\\site-packages (from nltk) (8.0.4)\n",
      "Requirement already satisfied: regex>=2021.8.3 in c:\\users\\shrim\\anaconda3\\lib\\site-packages (from nltk) (2022.7.9)\n",
      "Requirement already satisfied: joblib in c:\\users\\shrim\\anaconda3\\lib\\site-packages (from nltk) (1.1.0)\n",
      "Requirement already satisfied: tqdm in c:\\users\\shrim\\anaconda3\\lib\\site-packages (from nltk) (4.64.1)\n",
      "Requirement already satisfied: colorama in c:\\users\\shrim\\anaconda3\\lib\\site-packages (from click->nltk) (0.4.6)\n"
     ]
    }
   ],
   "source": [
    "!pip install nltk\n"
   ]
  },
  {
   "cell_type": "markdown",
   "id": "7cae7189",
   "metadata": {},
   "source": [
    "\n",
    "# Step 2: Tokenization with NLTK\n"
   ]
  },
  {
   "cell_type": "code",
   "execution_count": 5,
   "id": "c2d6df54",
   "metadata": {},
   "outputs": [
    {
     "name": "stdout",
     "output_type": "stream",
     "text": [
      "Original Text: Tokenization is a crucial step in natural language processing. It breaks text into individual units called tokens.\n",
      "\n",
      "Words:\n",
      "['Tokenization', 'is', 'a', 'crucial', 'step', 'in', 'natural', 'language', 'processing', '.', 'It', 'breaks', 'text', 'into', 'individual', 'units', 'called', 'tokens', '.']\n",
      "\n",
      "Sentences:\n",
      "['Tokenization is a crucial step in natural language processing.', 'It breaks text into individual units called tokens.']\n"
     ]
    },
    {
     "name": "stderr",
     "output_type": "stream",
     "text": [
      "[nltk_data] Downloading package punkt to\n",
      "[nltk_data]     C:\\Users\\shrim\\AppData\\Roaming\\nltk_data...\n",
      "[nltk_data]   Package punkt is already up-to-date!\n"
     ]
    }
   ],
   "source": [
    "import nltk\n",
    "from nltk.tokenize import word_tokenize, sent_tokenize\n",
    "\n",
    "# Download NLTK resources (only needed once)\n",
    "nltk.download('punkt') #if this generates error then download all the popular packages\n",
    "#nltk.download('popular')\n",
    "\n",
    "\n",
    "# Sample text for tokenization\n",
    "text = \"Tokenization is a crucial step in natural language processing. It breaks text into individual units called tokens.\"\n",
    "\n",
    "# Tokenize the text using NLTK\n",
    "words = word_tokenize(text)\n",
    "sentences = sent_tokenize(text)\n",
    "\n",
    "# Print tokens\n",
    "print(\"Original Text:\", text)\n",
    "print(\"\\nWords:\")\n",
    "print(words)\n",
    "print(\"\\nSentences:\")\n",
    "print(sentences)\n"
   ]
  },
  {
   "cell_type": "code",
   "execution_count": null,
   "id": "15add85c",
   "metadata": {},
   "outputs": [],
   "source": []
  }
 ],
 "metadata": {
  "kernelspec": {
   "display_name": "Python 3 (ipykernel)",
   "language": "python",
   "name": "python3"
  },
  "language_info": {
   "codemirror_mode": {
    "name": "ipython",
    "version": 3
   },
   "file_extension": ".py",
   "mimetype": "text/x-python",
   "name": "python",
   "nbconvert_exporter": "python",
   "pygments_lexer": "ipython3",
   "version": "3.9.13"
  }
 },
 "nbformat": 4,
 "nbformat_minor": 5
}
