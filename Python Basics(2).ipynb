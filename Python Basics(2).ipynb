{
 "cells": [
  {
   "cell_type": "markdown",
   "id": "39d6a36b",
   "metadata": {},
   "source": [
    "# Basic Syntax in Python"
   ]
  },
  {
   "cell_type": "markdown",
   "id": "87ceb31f",
   "metadata": {},
   "source": [
    "print() in Python to Display content"
   ]
  },
  {
   "cell_type": "code",
   "execution_count": 1,
   "id": "5ee93c74",
   "metadata": {},
   "outputs": [
    {
     "name": "stdout",
     "output_type": "stream",
     "text": [
      "Welcomes you All!\n"
     ]
    }
   ],
   "source": [
    "#To Display String\n",
    "print('Welcomes you All!')"
   ]
  },
  {
   "cell_type": "code",
   "execution_count": 2,
   "id": "de6886df",
   "metadata": {},
   "outputs": [
    {
     "name": "stdout",
     "output_type": "stream",
     "text": [
      "Don't worry about Aphostroph\n"
     ]
    }
   ],
   "source": [
    "print(\"Don't worry about Aphostroph\")"
   ]
  },
  {
   "cell_type": "code",
   "execution_count": 3,
   "id": "f8d359c3",
   "metadata": {},
   "outputs": [
    {
     "name": "stdout",
     "output_type": "stream",
     "text": [
      "string can span\n",
      "multiple line\n"
     ]
    }
   ],
   "source": [
    "print('''string can span\n",
    "multiple line''')"
   ]
  },
  {
   "cell_type": "markdown",
   "id": "885995be",
   "metadata": {},
   "source": [
    "# Variables in Python"
   ]
  },
  {
   "cell_type": "code",
   "execution_count": 11,
   "id": "f64a3165",
   "metadata": {},
   "outputs": [
    {
     "name": "stdout",
     "output_type": "stream",
     "text": [
      "9\n"
     ]
    }
   ],
   "source": [
    "x = 4\n",
    "y = x + 5\n",
    "print(y)"
   ]
  },
  {
   "cell_type": "code",
   "execution_count": 12,
   "id": "557b3901",
   "metadata": {},
   "outputs": [
    {
     "name": "stdout",
     "output_type": "stream",
     "text": [
      "Value of variable y is: 9\n"
     ]
    }
   ],
   "source": [
    "print(\"Value of variable y is:\",y)"
   ]
  },
  {
   "cell_type": "markdown",
   "id": "622969d2",
   "metadata": {},
   "source": [
    "Assignments can be done on more than one variable \"simultaneously\" on the same line"
   ]
  },
  {
   "cell_type": "code",
   "execution_count": 16,
   "id": "f3998091",
   "metadata": {},
   "outputs": [
    {
     "name": "stdout",
     "output_type": "stream",
     "text": [
      "6.7 8\n"
     ]
    }
   ],
   "source": [
    "a, b = 6.7, 8\n",
    "print(a, b)"
   ]
  },
  {
   "cell_type": "code",
   "execution_count": 1,
   "id": "95324c77",
   "metadata": {},
   "outputs": [
    {
     "name": "stdout",
     "output_type": "stream",
     "text": [
      "PythonWorkshop\n"
     ]
    }
   ],
   "source": [
    "s1=\"Python\"\n",
    "s2=\"Workshop\"\n",
    "print(s1 + s2)"
   ]
  },
  {
   "cell_type": "markdown",
   "id": "f6e1d69d",
   "metadata": {},
   "source": [
    "# Operators\n",
    "Arithmatic Operators"
   ]
  },
  {
   "cell_type": "code",
   "execution_count": 18,
   "id": "a00de48d",
   "metadata": {},
   "outputs": [
    {
     "name": "stdout",
     "output_type": "stream",
     "text": [
      "20\n",
      "14\n",
      "51\n",
      "4913\n",
      "5.666666666666667\n",
      "5\n"
     ]
    }
   ],
   "source": [
    "a = 17\n",
    "b = 3\n",
    "print(a + b)\n",
    "print(a - b)\n",
    "print(a * b)\n",
    "print(a ** b) # Power of/Exponentiation\n",
    "print(a / b)  # classic division returns a float\n",
    "print(a // b) # floor division discards the fractional part"
   ]
  },
  {
   "cell_type": "markdown",
   "id": "8a007356",
   "metadata": {},
   "source": [
    "Logical Operators"
   ]
  },
  {
   "cell_type": "markdown",
   "id": "7baf6644",
   "metadata": {},
   "source": [
    "a, b, c = 5, 13, 10\n",
    "print(a < c and b > c)"
   ]
  },
  {
   "cell_type": "code",
   "execution_count": 23,
   "id": "0db2b3c9",
   "metadata": {},
   "outputs": [
    {
     "name": "stdout",
     "output_type": "stream",
     "text": [
      "True\n"
     ]
    }
   ],
   "source": [
    "print(a < b or b > c)"
   ]
  },
  {
   "cell_type": "code",
   "execution_count": 24,
   "id": "1e3a8a5d",
   "metadata": {},
   "outputs": [
    {
     "name": "stdout",
     "output_type": "stream",
     "text": [
      "True\n"
     ]
    }
   ],
   "source": [
    "print(not(a==b))"
   ]
  },
  {
   "cell_type": "code",
   "execution_count": 37,
   "id": "67761a37",
   "metadata": {},
   "outputs": [
    {
     "name": "stdout",
     "output_type": "stream",
     "text": [
      "False\n"
     ]
    }
   ],
   "source": [
    "print(a==b)"
   ]
  },
  {
   "cell_type": "markdown",
   "id": "a0e5f4ac",
   "metadata": {},
   "source": [
    "Take Input"
   ]
  },
  {
   "cell_type": "code",
   "execution_count": 42,
   "id": "f52f0ccd",
   "metadata": {},
   "outputs": [
    {
     "name": "stdout",
     "output_type": "stream",
     "text": [
      "Enter Value: 234\n",
      "234\n"
     ]
    }
   ],
   "source": [
    "var = input(\"Enter Value: \")\n",
    "print(var)"
   ]
  },
  {
   "cell_type": "code",
   "execution_count": 43,
   "id": "5f23a726",
   "metadata": {},
   "outputs": [
    {
     "name": "stdout",
     "output_type": "stream",
     "text": [
      "Enter some text: Hello World\n",
      "Hello World\n"
     ]
    }
   ],
   "source": [
    "str = input(\"Enter some text: \")\n",
    "print(str)"
   ]
  },
  {
   "cell_type": "markdown",
   "id": "dc4dd525",
   "metadata": {},
   "source": [
    "# Conditional Statements"
   ]
  },
  {
   "cell_type": "markdown",
   "id": "9e46cc01",
   "metadata": {},
   "source": [
    "Syntax of If condition\n",
    "\n",
    "if condition:\n",
    "    if-block"
   ]
  },
  {
   "cell_type": "code",
   "execution_count": 47,
   "id": "a83a8cb2",
   "metadata": {},
   "outputs": [
    {
     "name": "stdout",
     "output_type": "stream",
     "text": [
      "num is even.\n"
     ]
    }
   ],
   "source": [
    "num = 10\n",
    "if num % 2 == 0:\n",
    "    print(\"num is even.\")"
   ]
  },
  {
   "cell_type": "markdown",
   "id": "43c1e5b4",
   "metadata": {},
   "source": [
    " if…else statement\n",
    " \n",
    " if condition:\n",
    "    if-block\n",
    "else:\n",
    "    else-block"
   ]
  },
  {
   "cell_type": "code",
   "execution_count": 53,
   "id": "4cdae688",
   "metadata": {},
   "outputs": [
    {
     "name": "stdout",
     "output_type": "stream",
     "text": [
      "num is even.\n"
     ]
    }
   ],
   "source": [
    "num = 10\n",
    "if num % 2 != 0:\n",
    "    print(\"num is odd.\")\n",
    "else:\n",
    "    print(\"num is even.\")"
   ]
  },
  {
   "cell_type": "markdown",
   "id": "f2881f16",
   "metadata": {},
   "source": [
    "if…elif…else statement\n",
    "\n",
    "if if-condition:\n",
    "    if-block\n",
    "elif elif-condition1:\n",
    "    elif-block1\n",
    "elif elif-condition2:\n",
    "    elif-block2\n",
    "...\n",
    "else:\n",
    "    else-block"
   ]
  },
  {
   "cell_type": "code",
   "execution_count": 60,
   "id": "b787812d",
   "metadata": {},
   "outputs": [
    {
     "name": "stdout",
     "output_type": "stream",
     "text": [
      "num is odd.\n"
     ]
    }
   ],
   "source": [
    "num = 11\n",
    "if num % 2 != 0:\n",
    "    print(\"num is odd.\")\n",
    "elif num == 0:\n",
    "    print(\"num is zero.\")\n",
    "else:\n",
    "    print(\"num is even.\")"
   ]
  },
  {
   "cell_type": "markdown",
   "id": "281900c0",
   "metadata": {},
   "source": [
    "# Looping Statement\n",
    "\n",
    "For Loop"
   ]
  },
  {
   "cell_type": "code",
   "execution_count": 61,
   "id": "cbf668ad",
   "metadata": {},
   "outputs": [
    {
     "name": "stdout",
     "output_type": "stream",
     "text": [
      "cat 3\n",
      "window 6\n",
      "home 4\n",
      "password 8\n"
     ]
    }
   ],
   "source": [
    "words = ['cat', 'window', 'home', 'password']\n",
    "\n",
    "for w in words:\n",
    "    print(w, len(w))"
   ]
  },
  {
   "cell_type": "markdown",
   "id": "c903a5f1",
   "metadata": {},
   "source": [
    "While Loop"
   ]
  },
  {
   "cell_type": "code",
   "execution_count": 63,
   "id": "b1f34ec2",
   "metadata": {},
   "outputs": [
    {
     "name": "stdout",
     "output_type": "stream",
     "text": [
      "0\n",
      "1\n",
      "2\n",
      "3\n",
      "4\n",
      "5\n",
      "6\n",
      "7\n",
      "8\n",
      "9\n"
     ]
    }
   ],
   "source": [
    "a, n = 0, 10\n",
    "while a < n:\n",
    "    print(a)\n",
    "    a = a + 1"
   ]
  },
  {
   "cell_type": "markdown",
   "id": "74d3416f",
   "metadata": {},
   "source": [
    "# Python Libraries for Various Fields:\n",
    "### Finance - https://pypi.org/project/yahoofinancials/\n",
    "### Biology - https://biopython.org/\n",
    "### Mechanical Engineer - ikpy(Inverse Kinematics), thermopy(to calculate thermodynamic feature), Cad in python(Python STL, PyMesh, numpy-stl)"
   ]
  },
  {
   "cell_type": "code",
   "execution_count": null,
   "id": "b25c3e5c",
   "metadata": {},
   "outputs": [],
   "source": []
  },
  {
   "cell_type": "code",
   "execution_count": null,
   "id": "428809b8",
   "metadata": {},
   "outputs": [],
   "source": []
  }
 ],
 "metadata": {
  "kernelspec": {
   "display_name": "Python 3",
   "language": "python",
   "name": "python3"
  },
  "language_info": {
   "codemirror_mode": {
    "name": "ipython",
    "version": 3
   },
   "file_extension": ".py",
   "mimetype": "text/x-python",
   "name": "python",
   "nbconvert_exporter": "python",
   "pygments_lexer": "ipython3",
   "version": "3.8.8"
  }
 },
 "nbformat": 4,
 "nbformat_minor": 5
}
