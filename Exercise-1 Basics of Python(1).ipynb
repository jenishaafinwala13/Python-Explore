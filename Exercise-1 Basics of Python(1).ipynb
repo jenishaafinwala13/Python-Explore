{
 "cells": [
  {
   "cell_type": "markdown",
   "id": "8f0cccdd",
   "metadata": {},
   "source": [
    "Use the \"print\" function to print the line \"Hello, World!\"."
   ]
  },
  {
   "cell_type": "code",
   "execution_count": 2,
   "id": "6a4359db",
   "metadata": {},
   "outputs": [
    {
     "name": "stdout",
     "output_type": "stream",
     "text": [
      "\"Hello, World!\"\n"
     ]
    }
   ],
   "source": [
    "print('\"Hello, World!\"')"
   ]
  },
  {
   "cell_type": "markdown",
   "id": "f0da292b",
   "metadata": {},
   "source": [
    "Display multiple lines using single print()"
   ]
  },
  {
   "cell_type": "code",
   "execution_count": 5,
   "id": "071d26d3",
   "metadata": {},
   "outputs": [
    {
     "name": "stdout",
     "output_type": "stream",
     "text": [
      "Line One \n",
      "Line Two\n",
      "Line Three\n"
     ]
    }
   ],
   "source": [
    "print('''Line One \n",
    "Line Two\n",
    "Line Three''')"
   ]
  },
  {
   "cell_type": "markdown",
   "id": "28d55e29",
   "metadata": {},
   "source": [
    "Display product of two given variables: number1 = 20, number2 = 30"
   ]
  },
  {
   "cell_type": "code",
   "execution_count": 4,
   "id": "fe186073",
   "metadata": {},
   "outputs": [
    {
     "name": "stdout",
     "output_type": "stream",
     "text": [
      "The result is  600\n"
     ]
    }
   ],
   "source": [
    "print(\"The result is \", 20*30)"
   ]
  },
  {
   "cell_type": "markdown",
   "id": "9f412ac7",
   "metadata": {},
   "source": [
    "Check Whether the values of number1 and number2 are same or not."
   ]
  },
  {
   "cell_type": "code",
   "execution_count": 6,
   "id": "00bd39f8",
   "metadata": {},
   "outputs": [
    {
     "name": "stdout",
     "output_type": "stream",
     "text": [
      "False\n"
     ]
    }
   ],
   "source": [
    "number1=45\n",
    "number2=56\n",
    "print(number1 == number2)"
   ]
  },
  {
   "cell_type": "markdown",
   "id": "973fdd45",
   "metadata": {},
   "source": [
    "Swap the Values of Variable number1 and number2. eg. if number1=45 and number2=56 then expected output is number1=56 and number2=45"
   ]
  },
  {
   "cell_type": "code",
   "execution_count": 11,
   "id": "88796991",
   "metadata": {},
   "outputs": [
    {
     "name": "stdout",
     "output_type": "stream",
     "text": [
      "number1= 56 number2= 45\n"
     ]
    }
   ],
   "source": [
    "number1,number2 = number2,number1\n",
    "print(\"number1=\",number1, \"number2=\",number2)"
   ]
  },
  {
   "cell_type": "markdown",
   "id": "72876248",
   "metadata": {},
   "source": [
    "Take your name as an input and display the message as: Great Job, Nilam! You did it."
   ]
  },
  {
   "cell_type": "code",
   "execution_count": 12,
   "id": "25b6b6f2",
   "metadata": {},
   "outputs": [
    {
     "name": "stdout",
     "output_type": "stream",
     "text": [
      "Enter your Name:Shekh\n"
     ]
    }
   ],
   "source": [
    "m=input(\"Enter your Name:\")"
   ]
  },
  {
   "cell_type": "code",
   "execution_count": 14,
   "id": "5bbf84e7",
   "metadata": {},
   "outputs": [
    {
     "name": "stdout",
     "output_type": "stream",
     "text": [
      "Great Job, Shekh! You did it.\n"
     ]
    }
   ],
   "source": [
    "print(\"Great Job,\",m+\"! You did it.\")"
   ]
  },
  {
   "cell_type": "code",
   "execution_count": 16,
   "id": "eb4edb3f",
   "metadata": {},
   "outputs": [],
   "source": []
  },
  {
   "cell_type": "code",
   "execution_count": null,
   "id": "97b8f40c",
   "metadata": {},
   "outputs": [],
   "source": []
  },
  {
   "cell_type": "code",
   "execution_count": null,
   "id": "ddc4d1fc",
   "metadata": {},
   "outputs": [],
   "source": []
  }
 ],
 "metadata": {
  "kernelspec": {
   "display_name": "Python 3",
   "language": "python",
   "name": "python3"
  },
  "language_info": {
   "codemirror_mode": {
    "name": "ipython",
    "version": 3
   },
   "file_extension": ".py",
   "mimetype": "text/x-python",
   "name": "python",
   "nbconvert_exporter": "python",
   "pygments_lexer": "ipython3",
   "version": "3.8.8"
  }
 },
 "nbformat": 4,
 "nbformat_minor": 5
}
